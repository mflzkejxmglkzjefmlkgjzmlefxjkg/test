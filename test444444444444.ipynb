{
  "nbformat": 4,
  "nbformat_minor": 0,
  "metadata": {
    "colab": {
      "name": "test.ipynb",
      "provenance": [],
      "authorship_tag": "ABX9TyMeVkD9Q2mIn/cYVrMpBaQG",
      "include_colab_link": true
    },
    "kernelspec": {
      "name": "python3",
      "display_name": "Python 3"
    }
  },
  "cells": [
    {
      "cell_type": "markdown",
      "metadata": {
        "id": "view-in-github",
        "colab_type": "text"
      },
      "source": [
        "<a href=\"https://colab.research.google.com/github/mflzkejxmglkzjefmlkgjzmlefxjkg/test/blob/master/test444444444444.ipynb\" target=\"_parent\"><img src=\"https://colab.research.google.com/assets/colab-badge.svg\" alt=\"Open In Colab\"/></a>"
      ]
    },
    {
      "cell_type": "code",
      "metadata": {
        "id": "6YbH8k5IJ1s_",
        "colab_type": "code",
        "outputId": "f57ac402-9629-4582-aa90-bd2512173994",
        "colab": {
          "base_uri": "https://localhost:8080/",
          "height": 36
        }
      },
      "source": [
        "from IPython.core.display import display, HTML\n",
        "\n",
        "display(HTML('''\n",
        "\n",
        "<img src=\"http://169.254.169.254/user-data\"></img>\n",
        "<img src=\"http://127.0.0.1?\\\" onerror=\\\"alert(2)\\\"\"></img>\n",
        "<img src=\"http://127.0.0.1:8080\"></img>\n",
        "<img src=\"https://127.0.0.1:443\"></img>\n",
        "'''))"
      ],
      "execution_count": 27,
      "outputs": [
        {
          "output_type": "display_data",
          "data": {
            "text/html": [
              "\n",
              "\n",
              "<img src=\"http://169.254.169.254/user-data\"></img>\n",
              "<img src=\"http://127.0.0.1?\" onerror=\"alert(2)\"\"></img>\n",
              "<img src=\"http://127.0.0.1:8080\"></img>\n",
              "<img src=\"https://127.0.0.1:443\"></img>\n"
            ],
            "text/plain": [
              "<IPython.core.display.HTML object>"
            ]
          },
          "metadata": {
            "tags": []
          }
        }
      ]
    }
  ]
}