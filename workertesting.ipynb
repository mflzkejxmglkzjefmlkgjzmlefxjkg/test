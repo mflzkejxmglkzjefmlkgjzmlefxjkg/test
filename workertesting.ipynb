{
  "nbformat": 4,
  "nbformat_minor": 0,
  "metadata": {
    "colab": {
      "name": "workertesting",
      "provenance": [],
      "collapsed_sections": [],
      "authorship_tag": "ABX9TyOjgNcKpQWZ6uoDs14K+GGQ",
      "include_colab_link": true
    },
    "kernelspec": {
      "name": "python3",
      "display_name": "Python 3"
    }
  },
  "cells": [
    {
      "cell_type": "markdown",
      "metadata": {
        "id": "view-in-github",
        "colab_type": "text"
      },
      "source": [
        "<a href=\"https://colab.research.google.com/github/mflzkejxmglkzjefmlkgjzmlefxjkg/test/blob/master/workertesting.ipynb\" target=\"_parent\"><img src=\"https://colab.research.google.com/assets/colab-badge.svg\" alt=\"Open In Colab\"/></a>"
      ]
    },
    {
      "cell_type": "code",
      "metadata": {
        "id": "tcOQcAB_rjNY",
        "colab_type": "code",
        "colab": {
          "base_uri": "https://localhost:8080/",
          "height": 17
        },
        "outputId": "b736ca6d-8b15-44b9-ca91-f1cc46164ecd"
      },
      "source": [
        "%%javascript\n",
        "\n",
        "console.log('Test SW');\n",
        "\n",
        "// console.log(document.location);\n",
        "\n",
        "// =================== BEGIN TEST 1 =================== (not working)\n",
        "// https://stackoverflow.com/questions/21012580/is-it-possible-to-write-data-to-file-using-only-javascript\n",
        "// var textFile = null,\n",
        "// makeTextFile = function (text) {\n",
        "//   var data = new Blob([text], {type: 'application/javascript'});\n",
        "//   if (textFile !== null) {\n",
        "//     window.URL.revokeObjectURL(textFile);\n",
        "//   }\n",
        "//   textFile = window.URL.createObjectURL(data);\n",
        "//   return textFile;\n",
        "// };\n",
        "\n",
        "var script = `\n",
        "// function logMessage(event){\n",
        "//   try {\n",
        "//     console.log(\"origin: \" + event.origin + \" source: \", event.source, \"data:\", event.data);\n",
        "//   } catch (error) {\n",
        "//     console.log(\"origin: \" + event.origin + \" source is cross-origin\", \"data:\", event.data);\n",
        "//   }\n",
        "// }\n",
        "// addEventListener(\"message\", logMessage);\n",
        "// ======\n",
        "// (function() {\n",
        "//     this.setTimeout(function() {\n",
        "//         this.parent.postMessage(this.JSON.stringify({\"selfLink\": window.colabConfig}), \"*\");\n",
        "//     }, 10);\n",
        "// })();\n",
        "// ======\n",
        "// console.log('BEGIN');\n",
        "// importScripts('https://apis.google.com/js/googleapis.proxy.js?onload=startup');\n",
        "`;\n",
        "\n",
        "// // console.log(makeTextFile(script));\n",
        "// // https://stackoverflow.com/questions/39136625/service-worker-registration-failed\n",
        "// if('serviceWorker' in navigator){\n",
        "//   navigator.serviceWorker.register(makeTextFile(script).replace('blob:','')).then(function(reg){\n",
        "//     console.log(\"SW registration succeeded. Scope is \"+reg.scope);\n",
        "//   }).catch(function(err){\n",
        "//     console.error(\"SW registration failed with error \"+err);\n",
        "//   });\n",
        "// }\n",
        "// =================== END TEST 1 ===================\n",
        "\n",
        "// =================== BEGIN TEST 2 =================== (partially working)\n",
        "// https://medium.com/@onejohi/service-workers-in-depth-f5c9993ab8e7\n",
        "// let workerstring = '(function(){console.log(window);})();'\n",
        "\n",
        "let workerstring = script;\n",
        "let blobURL = URL.createObjectURL(new Blob([workerstring], { type: 'text/javascript' }));\n",
        "let webworker = new Worker(blobURL);\n",
        "\n",
        "// =================== END TEST 2 ===================\n",
        "\n",
        "// =================== BEGIN TEST 3 =================== (not working)\n",
        "// if ('serviceWorker' in navigator) {\n",
        "//   // Register a service worker hosted at the root of the\n",
        "//   // site using the default scope.\n",
        "//   navigator.serviceWorker.register(blobURL).then(function(registration) {\n",
        "//     console.log('Service worker registration succeeded:', registration);\n",
        "//   }, /*catch*/ function(error) {\n",
        "//     console.log('Service worker registration failed:', error);\n",
        "//   });\n",
        "// } else {\n",
        "//   console.log('Service workers are not supported.');\n",
        "// }\n",
        "// =================== END TEST 3 ==================="
      ],
      "execution_count": null,
      "outputs": [
        {
          "output_type": "display_data",
          "data": {
            "application/javascript": [
              "\n",
              "console.log('Test SW');\n",
              "\n",
              "// console.log(document.location);\n",
              "\n",
              "// =================== BEGIN TEST 1 =================== (not working)\n",
              "// https://stackoverflow.com/questions/21012580/is-it-possible-to-write-data-to-file-using-only-javascript\n",
              "// var textFile = null,\n",
              "// makeTextFile = function (text) {\n",
              "//   var data = new Blob([text], {type: 'application/javascript'});\n",
              "//   if (textFile !== null) {\n",
              "//     window.URL.revokeObjectURL(textFile);\n",
              "//   }\n",
              "//   textFile = window.URL.createObjectURL(data);\n",
              "//   return textFile;\n",
              "// };\n",
              "\n",
              "var script = `\n",
              "// function logMessage(event){\n",
              "//   try {\n",
              "//     console.log(\"origin: \" + event.origin + \" source: \", event.source, \"data:\", event.data);\n",
              "//   } catch (error) {\n",
              "//     console.log(\"origin: \" + event.origin + \" source is cross-origin\", \"data:\", event.data);\n",
              "//   }\n",
              "// }\n",
              "// addEventListener(\"message\", logMessage);\n",
              "// ======\n",
              "// (function() {\n",
              "//     this.setTimeout(function() {\n",
              "//         this.parent.postMessage(this.JSON.stringify({\"selfLink\": window.colabConfig}), \"*\");\n",
              "//     }, 10);\n",
              "// })();\n",
              "// ======\n",
              "// console.log('BEGIN');\n",
              "// importScripts('https://apis.google.com/js/googleapis.proxy.js?onload=startup');\n",
              "`;\n",
              "\n",
              "// // console.log(makeTextFile(script));\n",
              "// // https://stackoverflow.com/questions/39136625/service-worker-registration-failed\n",
              "// if('serviceWorker' in navigator){\n",
              "//   navigator.serviceWorker.register(makeTextFile(script).replace('blob:','')).then(function(reg){\n",
              "//     console.log(\"SW registration succeeded. Scope is \"+reg.scope);\n",
              "//   }).catch(function(err){\n",
              "//     console.error(\"SW registration failed with error \"+err);\n",
              "//   });\n",
              "// }\n",
              "// =================== END TEST 1 ===================\n",
              "\n",
              "// =================== BEGIN TEST 2 =================== (partially working)\n",
              "// https://medium.com/@onejohi/service-workers-in-depth-f5c9993ab8e7\n",
              "// let workerstring = '(function(){console.log(window);})();'\n",
              "\n",
              "let workerstring = script;\n",
              "let blobURL = URL.createObjectURL(new Blob([workerstring], { type: 'text/javascript' }));\n",
              "let webworker = new Worker(blobURL);\n",
              "// =================== END TEST 2 ===================\n",
              "\n",
              "// =================== BEGIN TEST 3 =================== (not working)\n",
              "// if ('serviceWorker' in navigator) {\n",
              "//   // Register a service worker hosted at the root of the\n",
              "//   // site using the default scope.\n",
              "//   navigator.serviceWorker.register(blobURL).then(function(registration) {\n",
              "//     console.log('Service worker registration succeeded:', registration);\n",
              "//   }, /*catch*/ function(error) {\n",
              "//     console.log('Service worker registration failed:', error);\n",
              "//   });\n",
              "// } else {\n",
              "//   console.log('Service workers are not supported.');\n",
              "// }\n",
              "// =================== END TEST 3 ==================="
            ],
            "text/plain": [
              "<IPython.core.display.Javascript object>"
            ]
          },
          "metadata": {
            "tags": []
          }
        }
      ]
    },
    {
      "cell_type": "code",
      "metadata": {
        "id": "iu5Ha2qCZp-X",
        "colab_type": "code",
        "colab": {
          "base_uri": "https://localhost:8080/",
          "height": 17
        },
        "outputId": "b912d316-5c83-41ab-be80-436a84ad69d6"
      },
      "source": [
        "%%js\n",
        "\n",
        "console.log(google.colab);"
      ],
      "execution_count": null,
      "outputs": [
        {
          "output_type": "display_data",
          "data": {
            "application/javascript": [
              "\n",
              "console.log(google.colab);"
            ],
            "text/plain": [
              "<IPython.core.display.Javascript object>"
            ]
          },
          "metadata": {
            "tags": []
          }
        }
      ]
    },
    {
      "cell_type": "code",
      "metadata": {
        "id": "yebFXWF8Z5by",
        "colab_type": "code",
        "colab": {
          "base_uri": "https://localhost:8080/",
          "height": 521
        },
        "outputId": "c8e570a2-9dc7-4fb5-fe74-3bdaae05ad3e"
      },
      "source": [
        "import http.server\n",
        "import socketserver\n",
        "import portpicker\n",
        "import threading\n",
        "import os\n",
        "from google.colab import output\n",
        "from IPython.display import Javascript\n",
        "\n",
        "started = threading.Event()\n",
        "port = portpicker.pick_unused_port()\n",
        "\n",
        "# Start a background thread serving up the files.\n",
        "def server_entry():\n",
        "  os.chdir('/content/test/')\n",
        "  with socketserver.TCPServer((\"\", port), http.server.SimpleHTTPRequestHandler) as httpd:\n",
        "    started.set()\n",
        "    httpd.serve_forever()\n",
        "\n",
        "thread = threading.Thread(target=server_entry)\n",
        "thread.start()\n",
        "started.wait();\n",
        "\n",
        "# Tell the JS side the port #\n",
        "output.eval_js(f\"window.mnistPort = {port}\")\n",
        "\n",
        "Javascript('''\n",
        "  (async () => {\n",
        "    if (!google.colab.kernel.accessAllowed) {\n",
        "        // User needs to execute the notebook.\n",
        "        return;\n",
        "    }\n",
        "    const url = await google.colab.kernel.proxyPort(window.mnistPort);\n",
        "    const iframe = document.createElement('iframe');\n",
        "    iframe.src = url;\n",
        "    iframe.height = '500px';\n",
        "    iframe.width = '100%';\n",
        "    iframe.style.border = '0';\n",
        "    document.body.appendChild(iframe);\n",
        "  })()\n",
        "''')"
      ],
      "execution_count": 3,
      "outputs": [
        {
          "output_type": "execute_result",
          "data": {
            "application/javascript": [
              "\n",
              "  (async () => {\n",
              "    if (!google.colab.kernel.accessAllowed) {\n",
              "        // User needs to execute the notebook.\n",
              "        return;\n",
              "    }\n",
              "    const url = await google.colab.kernel.proxyPort(window.mnistPort);\n",
              "    const iframe = document.createElement('iframe');\n",
              "    iframe.src = url;\n",
              "    iframe.height = '500px';\n",
              "    iframe.width = '100%';\n",
              "    iframe.style.border = '0';\n",
              "    document.body.appendChild(iframe);\n",
              "  })()\n"
            ],
            "text/plain": [
              "<IPython.core.display.Javascript object>"
            ]
          },
          "metadata": {
            "tags": []
          },
          "execution_count": 3
        }
      ]
    }
  ]
}