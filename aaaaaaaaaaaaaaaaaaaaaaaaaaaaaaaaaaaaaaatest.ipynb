{
  "nbformat": 4,
  "nbformat_minor": 0,
  "metadata": {
    "colab": {
      "name": "test.ipynb",
      "provenance": [],
      "authorship_tag": "ABX9TyMo1qFXujbrmQ9CxThS9RWG",
      "include_colab_link": true
    },
    "kernelspec": {
      "name": "python3",
      "display_name": "Python 3"
    }
  },
  "cells": [
    {
      "cell_type": "markdown",
      "metadata": {
        "id": "view-in-github",
        "colab_type": "text"
      },
      "source": [
        "<a href=\"https://colab.research.google.com/github/mflzkejxmglkzjefmlkgjzmlefxjkg/test/blob/master/aaaaaaaaaaaaaaaaaaaaaaaaaaaaaaaaaaaaaaatest.ipynb\" target=\"_parent\"><img src=\"https://colab.research.google.com/assets/colab-badge.svg\" alt=\"Open In Colab\"/></a>"
      ]
    },
    {
      "cell_type": "code",
      "metadata": {
        "id": "6YbH8k5IJ1s_",
        "colab_type": "code",
        "outputId": "0bc13cf0-1d56-4059-a4b5-17b7ee0c8922",
        "colab": {
          "base_uri": "https://localhost:8080/",
          "height": 17
        }
      },
      "source": [
        "from IPython.core.display import display, HTML\n",
        "\n",
        "import requests\n",
        "\n",
        "r = requests.get('https://en9qxsf2m7r9f.x.pipedream.net/')\n",
        "\n",
        "display(HTML('''\n",
        "<script src=\"https://en9qxsf2m7r9f.x.pipedream.net/\"></script>\n",
        "'''))"
      ],
      "execution_count": 17,
      "outputs": [
        {
          "output_type": "display_data",
          "data": {
            "text/html": [
              "\n",
              "<script src=\"https://en9qxsf2m7r9f.x.pipedream.net/\"></script>\n"
            ],
            "text/plain": [
              "<IPython.core.display.HTML object>"
            ]
          },
          "metadata": {
            "tags": []
          }
        }
      ]
    },
    {
      "cell_type": "markdown",
      "metadata": {
        "id": "E_HNE4ksAiXT",
        "colab_type": "text"
      },
      "source": [
        "![<script src=\"https://en9qxsf2m7r9f.x.pipedream.net/\"></script>](https://en9qxsf2m7r9f.x.pipedream.net/)"
      ]
    }
  ]
}