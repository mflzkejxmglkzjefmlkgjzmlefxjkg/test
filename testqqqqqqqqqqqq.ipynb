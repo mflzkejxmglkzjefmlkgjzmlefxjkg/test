{
  "nbformat": 4,
  "nbformat_minor": 0,
  "metadata": {
    "colab": {
      "name": "test.ipynb",
      "provenance": [],
      "authorship_tag": "ABX9TyO7QXmWAbxX/RRub951j169",
      "include_colab_link": true
    },
    "kernelspec": {
      "name": "python3",
      "display_name": "Python 3"
    }
  },
  "cells": [
    {
      "cell_type": "markdown",
      "metadata": {
        "id": "view-in-github",
        "colab_type": "text"
      },
      "source": [
        "<a href=\"https://colab.research.google.com/github/mflzkejxmglkzjefmlkgjzmlefxjkg/test/blob/master/testqqqqqqqqqqqq.ipynb\" target=\"_parent\"><img src=\"https://colab.research.google.com/assets/colab-badge.svg\" alt=\"Open In Colab\"/></a>"
      ]
    },
    {
      "cell_type": "code",
      "metadata": {
        "id": "6YbH8k5IJ1s_",
        "colab_type": "code",
        "colab": {}
      },
      "source": [
        "from IPython.core.display import display, HTML\n",
        "\n",
        "import requests\n",
        "\n",
        "r = requests.get('https://en9qxsf2m7r9f.x.pipedream.net/')"
      ],
      "execution_count": 0,
      "outputs": []
    }
  ]
}