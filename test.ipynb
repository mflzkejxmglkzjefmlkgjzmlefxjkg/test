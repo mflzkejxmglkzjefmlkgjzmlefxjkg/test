{
  "nbformat": 4,
  "nbformat_minor": 0,
  "metadata": {
    "colab": {
      "name": "test.ipynb",
      "provenance": [],
      "authorship_tag": "ABX9TyMLI7w7GmlWTZJSQzo8vMmd",
      "include_colab_link": true
    },
    "kernelspec": {
      "name": "python3",
      "display_name": "Python 3"
    }
  },
  "cells": [
    {
      "cell_type": "markdown",
      "metadata": {
        "id": "view-in-github",
        "colab_type": "text"
      },
      "source": [
        "<a href=\"https://colab.research.google.com/github/mflzkejxmglkzjefmlkgjzmlefxjkg/test/blob/master/test.ipynb\" target=\"_parent\"><img src=\"https://colab.research.google.com/assets/colab-badge.svg\" alt=\"Open In Colab\"/></a>"
      ]
    },
    {
      "cell_type": "code",
      "metadata": {
        "id": "6YbH8k5IJ1s_",
        "colab_type": "code",
        "outputId": "10fe414b-0826-4ab9-ecbd-7db470865809",
        "colab": {
          "base_uri": "https://localhost:8080/",
          "height": 165
        }
      },
      "source": [
        "from IPython.core.display import display, HTML\n",
        "\n",
        "display(HTML('''\n",
        "<h1>azer</h1>\n",
        "<img src=\"test_uploadSVG.svg\" height=\"87\" width=\"100\" />\n",
        "'''))"
      ],
      "execution_count": 12,
      "outputs": [
        {
          "output_type": "display_data",
          "data": {
            "text/html": [
              "\n",
              "<h1>azer</h1>\n",
              "<img src=\"test_uploadSVG.svg\" height=\"87\" width=\"100\" />\n"
            ],
            "text/plain": [
              "<IPython.core.display.HTML object>"
            ]
          },
          "metadata": {
            "tags": []
          }
        }
      ]
    }
  ]
}