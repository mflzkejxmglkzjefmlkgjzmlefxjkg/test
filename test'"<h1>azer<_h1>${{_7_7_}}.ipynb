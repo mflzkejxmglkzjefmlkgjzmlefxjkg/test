{
  "nbformat": 4,
  "nbformat_minor": 0,
  "metadata": {
    "colab": {
      "name": "test'\"<h1>azer</h1>${{ 7*7 }}.ipynb",
      "provenance": [],
      "authorship_tag": "ABX9TyMWwTwnbKnZe+IlZMSnYahc",
      "include_colab_link": true
    },
    "kernelspec": {
      "name": "python3",
      "display_name": "Python 3"
    }
  },
  "cells": [
    {
      "cell_type": "markdown",
      "metadata": {
        "id": "view-in-github",
        "colab_type": "text"
      },
      "source": [
        "<a href=\"https://colab.research.google.com/github/mflzkejxmglkzjefmlkgjzmlefxjkg/test/blob/master/test'%22%3Ch1%3Eazer%3C_h1%3E%24%7B%7B_7_7_%7D%7D.ipynb\" target=\"_parent\"><img src=\"https://colab.research.google.com/assets/colab-badge.svg\" alt=\"Open In Colab\"/></a>"
      ]
    },
    {
      "cell_type": "code",
      "metadata": {
        "id": "B3aax7N3_3gy",
        "colab_type": "code",
        "colab": {
          "base_uri": "https://localhost:8080/",
          "height": 126
        },
        "outputId": "8b673d7c-031a-4fd3-c1dd-afcc64ee36e2"
      },
      "source": [
        "from IPython.core.display import display, HTML\n",
        "\n",
        "display(HTML('''\n",
        "<h1>d8e8fca2dc0f896fd7cb4cb0031ba249</h1>\n",
        "<h1>d8e8fca2dc0f896fd7cb4cb0031ba249</h1>\n",
        "'''))"
      ],
      "execution_count": 2,
      "outputs": [
        {
          "output_type": "display_data",
          "data": {
            "text/html": [
              "\n",
              "<h1>d8e8fca2dc0f896fd7cb4cb0031ba249</h1>\n",
              "<h1>d8e8fca2dc0f896fd7cb4cb0031ba249</h1>\n"
            ],
            "text/plain": [
              "<IPython.core.display.HTML object>"
            ]
          },
          "metadata": {
            "tags": []
          }
        }
      ]
    }
  ]
}